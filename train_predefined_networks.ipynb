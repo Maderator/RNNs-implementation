{
 "cells": [
  {
   "cell_type": "code",
   "execution_count": 2,
   "metadata": {},
   "outputs": [],
   "source": [
    "%load_ext tensorboard"
   ]
  },
  {
   "cell_type": "code",
   "execution_count": 4,
   "metadata": {},
   "outputs": [],
   "source": [
    "import tensorflow as tf\n",
    "from datetime import datetime\n",
    "import tensorboard\n",
    "\n",
    "from rnn_constructor import RNNConstructor\n",
    "from rnn_cells import CustomLSTMCell\n",
    "from custom_layers import DilatedRNNLayer\n",
    "from predefined_networks import (one_layered_lstm, \n",
    "                                                            smyl_std_lstm,\n",
    "                                                            smyl_residual_lstm)\n"
   ]
  },
  {
   "cell_type": "code",
   "execution_count": 5,
   "metadata": {},
   "outputs": [],
   "source": [
    "# Load your data here\n",
    "#train_x, train_y, val_x, val_y = ..."
   ]
  },
  {
   "cell_type": "code",
   "execution_count": 10,
   "metadata": {},
   "outputs": [],
   "source": [
    "in_shape = train_x.shape[1:]\n",
    "output_units = train_y.shape[-1]\n",
    "\n",
    "#out_layer, lstm_layers, _, residual_size = smyl_residual_lstm(output_units=output_units, cell_type=\"lstm\", lstm_units=30, dilation_base=2, residual_block_size=None, num_layers=4, return_sequences=True) \n",
    "#out_layer, lstm_layers, dense_layers, residual_size = smyl_std_lstm(output_units=output_units, cell_type=\"lstm\", lstm_units=30, dilation_base=2, residual_block_size=None, num_layers=4, return_sequences=True) \n",
    "out_layer, lstm_layers, _, residual_size = one_layered_lstm(output_units=output_units, lstm_units=73, return_sequences=True) \n",
    "#out_layer, lstm_layers, _, residual_size = basic_parser(output_units=output_units, cell_type=\"lstm\", lstm_units=30, dilation_base=2, residual_block_size=2, num_layers=6, return_sequences=True, peephole_connetions=True, residual_connections=True, layer_normalization=True) \n",
    "\n",
    "model = RNNConstructor(input_shape=in_shape, output_layer_params=out_layer, rnn_layers_params=lstm_layers, dense_layers_params=[], residual_block_size=residual_size)"
   ]
  },
  {
   "cell_type": "code",
   "execution_count": null,
   "metadata": {},
   "outputs": [],
   "source": [
    "model.plot_model()\n",
    "#model.count_trainable_parameters()"
   ]
  },
  {
   "cell_type": "code",
   "execution_count": null,
   "metadata": {},
   "outputs": [],
   "source": [
    "\n",
    "logdir=\"logs/test_predefined_networks/one_layered_lstm\" + datetime.now().strftime(\"%Y%m%d-%H%M%S\")\n",
    "tensorboard_callback = tf.keras.callbacks.TensorBoard(log_dir=logdir)\n",
    "\n",
    "# Train the model.\n",
    "loss = tf.keras.losses.MeanSquaredError()\n",
    "metric = tf.keras.metrics.RootMeanSquaredError()\n",
    "model.compile(optimizer=\"rmsprop\", loss=loss, metrics=[metric])\n",
    "model.fit(train_x, train_y, epochs=100, batch_size=16, validation_data=(val_x, val_y), shuffle=True, callbacks=[tensorboard_callback], verbose=1)"
   ]
  },
  {
   "cell_type": "code",
   "execution_count": 29,
   "metadata": {},
   "outputs": [
    {
     "data": {
      "text/plain": [
       "Reusing TensorBoard on port 6006 (pid 6892), started 0:45:47 ago. (Use '!kill 6892' to kill it.)"
      ]
     },
     "metadata": {},
     "output_type": "display_data"
    },
    {
     "data": {
      "text/html": [
       "\n",
       "      <iframe id=\"tensorboard-frame-e16c4aea380af282\" width=\"100%\" height=\"800\" frameborder=\"0\">\n",
       "      </iframe>\n",
       "      <script>\n",
       "        (function() {\n",
       "          const frame = document.getElementById(\"tensorboard-frame-e16c4aea380af282\");\n",
       "          const url = new URL(\"http://localhost\");\n",
       "          const port = 6006;\n",
       "          if (port) {\n",
       "            url.port = port;\n",
       "          }\n",
       "          frame.src = url;\n",
       "        })();\n",
       "      </script>\n",
       "    "
      ],
      "text/plain": [
       "<IPython.core.display.HTML object>"
      ]
     },
     "metadata": {},
     "output_type": "display_data"
    }
   ],
   "source": [
    "%tensorboard --logdir logs/test_predefined_networks"
   ]
  }
 ],
 "metadata": {
  "kernelspec": {
   "display_name": "venv",
   "language": "python",
   "name": "python3"
  },
  "language_info": {
   "codemirror_mode": {
    "name": "ipython",
    "version": 3
   },
   "file_extension": ".py",
   "mimetype": "text/x-python",
   "name": "python",
   "nbconvert_exporter": "python",
   "pygments_lexer": "ipython3",
   "version": "3.10.10"
  }
 },
 "nbformat": 4,
 "nbformat_minor": 2
}
